{
 "cells": [
  {
   "cell_type": "markdown",
   "metadata": {},
   "source": [
    "# Problem"
   ]
  },
  {
   "cell_type": "markdown",
   "metadata": {},
   "source": [
    "Let's choose a \"toy\" machine learning problem and try to solve it first by ourselves, i.e. without the help of any framework, and then solve the problem using TensorFlow. I believe this is effective learning approach since we can mentally compare both implementation and understand better how a framework works internally.\n",
    "\n",
    "As a \"toy\" machine learning problem I chose [artificial neuron with sigmoid activation function](https://en.wikibooks.org/wiki/Artificial_Neural_Networks/Activation_Functions) classifier for two linear separable 2-dimensional sets of features. Why 2-dimensional? Because the data could be visualized on the 2D plane. Why linear separable? We're going to use gradient descent for training and the latter converges for artificial neuron only if a data is linear separable. Let's start."
   ]
  },
  {
   "cell_type": "markdown",
   "metadata": {},
   "source": [
    "# Training Data"
   ]
  },
  {
   "cell_type": "markdown",
   "metadata": {},
   "source": [
    "The code bellow generates two sets of points. Two sets represent classes labeled as '0' and '1'. This is an abstract problem which could be projected onto many real-life problems. For instance, students who passed or failed an exam based on the time spend for learning and number of lectures attended during the term. Apparently, students studied more time and those attended more lectures having more chances to pass an exam."
   ]
  },
  {
   "cell_type": "code",
   "execution_count": 3,
   "metadata": {
    "collapsed": true
   },
   "outputs": [],
   "source": [
    "import numpy as np\n",
    "import matplotlib.pyplot as plt\n",
    "import scipy as sp\n",
    "import pandas as pd\n",
    "%matplotlib inline"
   ]
  },
  {
   "cell_type": "code",
   "execution_count": 4,
   "metadata": {
    "collapsed": false
   },
   "outputs": [
    {
     "data": {
      "text/plain": [
       "<matplotlib.legend.Legend at 0x10e58ffd0>"
      ]
     },
     "execution_count": 4,
     "metadata": {},
     "output_type": "execute_result"
    },
    {
     "name": "stderr",
     "output_type": "stream",
     "text": [
      "/Users/kirill/anaconda/lib/python3.5/site-packages/matplotlib/collections.py:590: FutureWarning: elementwise comparison failed; returning scalar instead, but in the future will perform elementwise comparison\n",
      "  if self._edgecolors == str('face'):\n"
     ]
    },
    {
     "data": {
      "image/png": "[encoded data removed]",
      "text/plain": [
       "<matplotlib.figure.Figure at 0x10e43fba8>"
      ]
     },
     "metadata": {},
     "output_type": "display_data"
    }
   ],
   "source": [
    "np.random.seed(100)\n",
    "\n",
    "# The first set. Normally distributed points around the point (3, 3) with the standard deviation 0.33\n",
    "class1 = np.random.normal(loc=3, scale=0.33, size=(2,20))\n",
    "# The second set. Normally distributed points around the point (1, 1) with the standard deviation 0.4\n",
    "class2 = np.random.normal(loc=1, scale=0.4, size=(2,40))\n",
    "# Merge both sets into the single training set\n",
    "trainX = np.transpose(np.hstack((class1, class2)))\n",
    "# Generate merged set of labels for already merged set of training data.\n",
    "trainY = np.hstack((np.full(class1.shape[1], 0, np.float32), np.full(class2.shape[1], 1, np.float32)))\n",
    "\n",
    "# Plot generated data.\n",
    "plt.figure(figsize=(10, 7))\n",
    "plt.scatter(class1[0], class1[1], color = 'b', marker='x', label='0')\n",
    "plt.scatter(class2[0], class2[1], color = 'r', marker = 'o', label='1')\n",
    "plt.xlim(0, 5)\n",
    "plt.ylim(0, 5)\n",
    "plt.axes()\n",
    "plt.legend()"
   ]
  },
  {
   "cell_type": "markdown",
   "metadata": {},
   "source": [
    "# Artificial Neuron"
   ]
  },
  {
   "cell_type": "markdown",
   "metadata": {},
   "source": [
    "Artificial neuron has the structure shown in the figure below. Essentially, a neuron takes the weighted linear combination of inputs and feeds its value into activation function. The latter should be differentiable, so it is possbile to compute its gradient needed for the learning."
   ]
  },
  {
   "cell_type": "markdown",
   "metadata": {},
   "source": [
    "<img height='500' width='500' src='https://upload.wikimedia.org/wikipedia/commons/6/60/ArtificialNeuronModel_english.png'/>"
   ]
  },
  {
   "cell_type": "markdown",
   "metadata": {},
   "source": [
    "We are going to use [sigmoid activation function](https://en.wikipedia.org/wiki/Sigmoid_function). "
   ]
  },
  {
   "cell_type": "code",
   "execution_count": 5,
   "metadata": {
    "collapsed": false
   },
   "outputs": [
    {
     "data": {
      "text/plain": [
       "(-0.1, 1.1)"
      ]
     },
     "execution_count": 5,
     "metadata": {},
     "output_type": "execute_result"
    },
    {
     "name": "stderr",
     "output_type": "stream",
     "text": [
      "/Users/kirill/anaconda/lib/python3.5/site-packages/matplotlib/collections.py:590: FutureWarning: elementwise comparison failed; returning scalar instead, but in the future will perform elementwise comparison\n",
      "  if self._edgecolors == str('face'):\n"
     ]
    },
    {
     "data": {
      "image/png": "[encoded data removed]",
      "text/plain": [
       "<matplotlib.figure.Figure at 0x10e43add8>"
      ]
     },
     "metadata": {},
     "output_type": "display_data"
    }
   ],
   "source": [
    "# plots sigmoid function\n",
    "xs = np.linspace(-10, 10)\n",
    "plt.figure(figsize=(10, 7))\n",
    "plt.plot(xs, sp.special.expit(xs))\n",
    "plt.vlines(0, 0 , 1, linestyles='dashed')\n",
    "plt.hlines(0.5, -10, 10, linestyles='dashed')\n",
    "plt.hlines(1, -10, 10, linestyles='dashed')\n",
    "plt.hlines(0, -10, 10, linestyles='dashed')\n",
    "plt.ylim(-0.1, 1.1)"
   ]
  },
  {
   "cell_type": "markdown",
   "metadata": {},
   "source": [
    "# Manual Training"
   ]
  },
  {
   "cell_type": "markdown",
   "metadata": {},
   "source": [
    "The fit function defined below takes training data and labels as an input and \"fits\" the model using the gradient descent approach."
   ]
  },
  {
   "cell_type": "code",
   "execution_count": 6,
   "metadata": {
    "collapsed": false
   },
   "outputs": [],
   "source": [
    "def fit(X, y, learningRate=0.1, epochs=100):\n",
    "    \"\"\"Fits artificial neuron with sigmoid function to the data X and expected labels y\"\"\"\n",
    "    # initialize weights with zeroes initially.\n",
    "    W = np.zeros(shape=X.shape[1] + 1, dtype=np.float32)\n",
    "    \n",
    "    def activation(X, W):\n",
    "        \"\"\"Computes activation function\"\"\"\n",
    "        return sp.special.expit(-np.matmul(X, W[1:]) - W[0])\n",
    "    \n",
    "    def gradient(j, X, W, y):\n",
    "        \"\"\"Computes gradient for the wieght with index j\"\"\"\n",
    "        xj = 1 if j == 0 else X[:, j - 1]\n",
    "        z = np.matmul(X, W[1:]) + W[0]\n",
    "        phi = activation(X, W)\n",
    "        return np.sum((y - phi)*np.square(phi)*xj*np.exp(z))\n",
    "    \n",
    "    def cost(X, W, y):\n",
    "        \"\"\"Computes cost function value for the given set of weights\"\"\"\n",
    "        return 0.5*np.square(np.sum(y - activation(X, W)))\n",
    "    \n",
    "    costs = []\n",
    "    # repeat gradient descent epochs number of times\n",
    "    for i in range(0, epochs):\n",
    "        # compute weights gradient\n",
    "        gradients = np.array([gradient(j, X, W, y) for j in range(0, W.shape[0])])\n",
    "        # update wieghts by moving them in the direction opposite to the gradient direction\n",
    "        # scaled by learning rate. Eventually, after sufficient number of epochs this should\n",
    "        # lead to the set of weights for which cost function has the minimum value.\n",
    "        W += -learningRate*gradients\n",
    "        # calcualte costs just for logging purposes\n",
    "        costs.append(cost(X, W, y))\n",
    "    \n",
    "    return W, costs"
   ]
  },
  {
   "cell_type": "code",
   "execution_count": 17,
   "metadata": {
    "collapsed": false
   },
   "outputs": [
    {
     "data": {
      "text/plain": [
       "array([-4.26588249,  1.1238364 ,  1.04220152], dtype=float32)"
      ]
     },
     "execution_count": 17,
     "metadata": {},
     "output_type": "execute_result"
    }
   ],
   "source": [
    "# now we can actually fir the model to the training data\n",
    "W, costs = fit(trainX, trainY, learningRate=0.1, epochs=50)\n",
    "# outputs weights array\n",
    "W"
   ]
  },
  {
   "cell_type": "markdown",
   "metadata": {},
   "source": [
    "We can visualize how cost was changing with the number of epoch. As we can see gradient descent converged pretty quickly."
   ]
  },
  {
   "cell_type": "code",
   "execution_count": 8,
   "metadata": {
    "collapsed": false
   },
   "outputs": [
    {
     "data": {
      "text/plain": [
       "[<matplotlib.lines.Line2D at 0x10e6df780>]"
      ]
     },
     "execution_count": 8,
     "metadata": {},
     "output_type": "execute_result"
    },
    {
     "data": {
      "image/png": "[encoded data removed]",
      "text/plain": [
       "<matplotlib.figure.Figure at 0x10e689240>"
      ]
     },
     "metadata": {},
     "output_type": "display_data"
    }
   ],
   "source": [
    "plt.figure(figsize=(15, 5))\n",
    "plt.plot(np.arange(len(costs)), costs)"
   ]
  },
  {
   "cell_type": "code",
   "execution_count": 9,
   "metadata": {
    "collapsed": false
   },
   "outputs": [
    {
     "data": {
      "text/plain": [
       "array([0, 0, 0, 0, 0, 0, 0, 0, 0, 0, 0, 0, 0, 0, 0, 0, 0, 0, 0, 0, 1, 1, 1,\n",
       "       1, 1, 1, 1, 1, 1, 1, 1, 1, 1, 1, 1, 1, 1, 1, 1, 1, 1, 1, 1, 1, 1, 1,\n",
       "       1, 1, 1, 1, 1, 1, 1, 1, 1, 1, 1, 1, 1, 1], dtype=int32)"
      ]
     },
     "execution_count": 9,
     "metadata": {},
     "output_type": "execute_result"
    }
   ],
   "source": [
    "np.array(sp.special.expit(-np.matmul(trainX, W[1:]) - W[0]) > 0.5, np.int32)"
   ]
  },
  {
   "cell_type": "markdown",
   "metadata": {},
   "source": [
    "Now it's time to plot decision boundary. All points above the line are classified as '1' and as '0' below the line. We can see that the obtained line perfectly divides two sets of points belonging of different classes."
   ]
  },
  {
   "cell_type": "code",
   "execution_count": 10,
   "metadata": {
    "collapsed": false
   },
   "outputs": [
    {
     "data": {
      "text/plain": [
       "<matplotlib.legend.Legend at 0x10fb48eb8>"
      ]
     },
     "execution_count": 10,
     "metadata": {},
     "output_type": "execute_result"
    },
    {
     "name": "stderr",
     "output_type": "stream",
     "text": [
      "/Users/kirill/anaconda/lib/python3.5/site-packages/matplotlib/collections.py:590: FutureWarning: elementwise comparison failed; returning scalar instead, but in the future will perform elementwise comparison\n",
      "  if self._edgecolors == str('face'):\n"
     ]
    },
    {
     "data": {
      "image/png": "[encoded data removed]",
      "text/plain": [
       "<matplotlib.figure.Figure at 0x10e43ac50>"
      ]
     },
     "metadata": {},
     "output_type": "display_data"
    }
   ],
   "source": [
    "plt.figure(figsize=(10, 7))\n",
    "plt.plot(np.linspace(-5, 5), -1 * (np.linspace(-5, 5)*W[1]/W[2] + W[0]/W[2]))\n",
    "plt.scatter(class1[0], class1[1], color = 'b', marker='x', label='0')\n",
    "plt.scatter(class2[0], class2[1], color = 'r', marker = 'o', label='1')\n",
    "plt.xlim(0, 5)\n",
    "plt.ylim(0, 5)\n",
    "plt.legend()"
   ]
  },
  {
   "cell_type": "markdown",
   "metadata": {},
   "source": [
    "# Training with TensorFlow"
   ]
  },
  {
   "cell_type": "markdown",
   "metadata": {},
   "source": [
    "Let's now implement the same artificial neuron using Google TensorFlow framework. First we need to create TensorFlow session."
   ]
  },
  {
   "cell_type": "code",
   "execution_count": 11,
   "metadata": {
    "collapsed": false
   },
   "outputs": [
    {
     "name": "stderr",
     "output_type": "stream",
     "text": [
      "Exception ignored in: <bound method BaseSession.__del__ of <tensorflow.python.client.session.InteractiveSession object at 0x104d11588>>\n",
      "Traceback (most recent call last):\n",
      "  File \"/Users/kirill/anaconda/lib/python3.5/site-packages/tensorflow/python/client/session.py\", line 140, in __del__\n",
      "    self.close()\n",
      "  File \"/Users/kirill/anaconda/lib/python3.5/site-packages/tensorflow/python/client/session.py\", line 905, in close\n",
      "    self._default_session.__exit__(None, None, None)\n",
      "  File \"/Users/kirill/anaconda/lib/python3.5/contextlib.py\", line 66, in __exit__\n",
      "    next(self.gen)\n",
      "  File \"/Users/kirill/anaconda/lib/python3.5/site-packages/tensorflow/python/framework/ops.py\", line 3215, in get_controller\n",
      "    assert self.stack[-1] is default\n",
      "AssertionError: \n"
     ]
    }
   ],
   "source": [
    "import pyprind\n",
    "import tensorflow as tf\n",
    "\n",
    "session = tf.InteractiveSession()"
   ]
  },
  {
   "cell_type": "markdown",
   "metadata": {},
   "source": [
    "And define computational graph which is going to be feeded to the TensorFlow computational engine."
   ]
  },
  {
   "cell_type": "code",
   "execution_count": 12,
   "metadata": {
    "collapsed": false
   },
   "outputs": [
    {
     "name": "stderr",
     "output_type": "stream",
     "text": [
      "0%                          100%\n",
      "[██████████████████████████████] | ETA: 00:00:00\n",
      "Total time elapsed: 00:00:00\n"
     ]
    },
    {
     "data": {
      "text/plain": [
       "array([-11.1970911 ,   2.43250084,   3.09110832], dtype=float32)"
      ]
     },
     "execution_count": 12,
     "metadata": {},
     "output_type": "execute_result"
    }
   ],
   "source": [
    "# define placeholders for training data tensors.\n",
    "x = tf.placeholder(dtype=tf.float32, shape=(None, 2))\n",
    "y = tf.placeholder(dtype=tf.float32, shape=(None))\n",
    "# define weghts tensor. This tensor is going to be computed aka \"learned\" from the input model.\n",
    "W = tf.Variable([0, 0, 0], dtype=tf.float32)\n",
    "\n",
    "# define linear transformation and sigmoid operations composed together.\n",
    "z = tf.reduce_sum(tf.mul(x, W[1:]), 1) + W[0]\n",
    "ypred = tf.sigmoid(-z)\n",
    "# calculate the cost\n",
    "cost = tf.reduce_sum(tf.square(tf.sub(y, ypred)))\n",
    "\n",
    "# gradient descent operation. Essentially, it just executes feedforward transformation followed\n",
    "# by backpropagation so weights get updated. This operation plays a role of a single epoch.\n",
    "costMinimizer = tf.train.GradientDescentOptimizer(.5).minimize(cost)\n",
    "\n",
    "# initializes all variables\n",
    "session.run(tf.initialize_all_variables())\n",
    "costs = []\n",
    "n = 100\n",
    "bar = pyprind.ProgBar(n, bar_char='█')\n",
    "for i in range(0, n):\n",
    "    # compue one gradient descent epoch. Here is the place where computational graph gets feeded\n",
    "    # to the computational engine and executed.\n",
    "    session.run(costMinimizer, feed_dict = {x: trainX, y: trainY})\n",
    "    # calculate the cost and append it to the list for logging purposes\n",
    "    costs.append(cost.eval(feed_dict = {x: trainX, y: trainY}))\n",
    "    bar.update()\n",
    "    \n",
    "# outputs weights tensor\n",
    "W.eval()"
   ]
  },
  {
   "cell_type": "code",
   "execution_count": 13,
   "metadata": {
    "collapsed": false
   },
   "outputs": [
    {
     "data": {
      "text/plain": [
       "[<matplotlib.lines.Line2D at 0x10fd85ac8>]"
      ]
     },
     "execution_count": 13,
     "metadata": {},
     "output_type": "execute_result"
    },
    {
     "data": {
      "image/png": "[encoded data removed]",
      "text/plain": [
       "<matplotlib.figure.Figure at 0x10f9f34e0>"
      ]
     },
     "metadata": {},
     "output_type": "display_data"
    }
   ],
   "source": [
    "plt.figure(figsize=(15, 5))\n",
    "plt.plot(np.arange(len(costs)), costs)"
   ]
  },
  {
   "cell_type": "code",
   "execution_count": 14,
   "metadata": {
    "collapsed": false
   },
   "outputs": [
    {
     "data": {
      "text/plain": [
       "array([False, False, False, False, False, False, False, False, False,\n",
       "       False, False, False, False, False, False, False, False, False,\n",
       "       False, False,  True,  True,  True,  True,  True,  True,  True,\n",
       "        True,  True,  True,  True,  True,  True,  True,  True,  True,\n",
       "        True,  True,  True,  True,  True,  True,  True,  True,  True,\n",
       "        True,  True,  True,  True,  True,  True,  True,  True,  True,\n",
       "        True,  True,  True,  True,  True,  True], dtype=bool)"
      ]
     },
     "execution_count": 14,
     "metadata": {},
     "output_type": "execute_result"
    }
   ],
   "source": [
    "sp.special.expit(-np.matmul(trainX, W.eval()[1:]) - W.eval()[0]) > .5"
   ]
  },
  {
   "cell_type": "markdown",
   "metadata": {},
   "source": [
    "Now we can plot the decision boundary. It looks exactly the same as for artifical neuron implemented by ourselves."
   ]
  },
  {
   "cell_type": "code",
   "execution_count": 15,
   "metadata": {
    "collapsed": false
   },
   "outputs": [
    {
     "data": {
      "text/plain": [
       "<matplotlib.legend.Legend at 0x10fdbacf8>"
      ]
     },
     "execution_count": 15,
     "metadata": {},
     "output_type": "execute_result"
    },
    {
     "name": "stderr",
     "output_type": "stream",
     "text": [
      "/Users/kirill/anaconda/lib/python3.5/site-packages/matplotlib/collections.py:590: FutureWarning: elementwise comparison failed; returning scalar instead, but in the future will perform elementwise comparison\n",
      "  if self._edgecolors == str('face'):\n"
     ]
    },
    {
     "data": {
      "image/png": "[encoded data removed]",
      "text/plain": [
       "<matplotlib.figure.Figure at 0x10fa0bc88>"
      ]
     },
     "metadata": {},
     "output_type": "display_data"
    }
   ],
   "source": [
    "plt.figure(figsize=(10, 7))\n",
    "plt.plot(np.linspace(-5, 5), -1 * (np.linspace(-5, 5)*W.eval()[1]/W.eval()[2] + W.eval()[0]/W.eval()[2]))\n",
    "plt.scatter(class1[0], class1[1], color = 'b', marker='x', label='0')\n",
    "plt.scatter(class2[0], class2[1], color = 'r', marker = 'o', label='1')\n",
    "plt.xlim(0, 5)\n",
    "plt.ylim(0, 5)\n",
    "plt.legend()"
   ]
  },
  {
   "cell_type": "markdown",
   "metadata": {},
   "source": [
    "TensorFlow session should be closed after we're done with computations."
   ]
  },
  {
   "cell_type": "code",
   "execution_count": 16,
   "metadata": {
    "collapsed": true
   },
   "outputs": [],
   "source": [
    "session.close()"
   ]
  }
 ],
 "metadata": {
  "kernelspec": {
   "display_name": "Python 3",
   "language": "python",
   "name": "python3"
  },
  "language_info": {
   "codemirror_mode": {
    "name": "ipython",
    "version": 3
   },
   "file_extension": ".py",
   "mimetype": "text/x-python",
   "name": "python",
   "nbconvert_exporter": "python",
   "pygments_lexer": "ipython3",
   "version": "3.5.0"
  }
 },
 "nbformat": 4,
 "nbformat_minor": 0
}
