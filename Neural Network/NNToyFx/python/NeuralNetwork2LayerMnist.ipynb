{
 "cells": [
  {
   "cell_type": "code",
   "execution_count": 1,
   "metadata": {},
   "outputs": [
    {
     "name": "stderr",
     "output_type": "stream",
     "text": [
      "/Users/kirill/anaconda/lib/python3.5/site-packages/ipykernel/__main__.py:13: VisibleDeprecationWarning: using a non-integer number instead of an integer will result in an error in the future\n",
      "/Users/kirill/anaconda/lib/python3.5/site-packages/ipykernel/__main__.py:21: VisibleDeprecationWarning: using a non-integer number instead of an integer will result in an error in the future\n"
     ]
    }
   ],
   "source": [
    "import datasets.cifar10 as cifar10\n",
    "import numpy as np\n",
    "\n",
    "mnist = np.loadtxt('datasets/mnist/train.csv', skiprows=1, delimiter=',')\n",
    "\n",
    "trainX = mnist[:32000, 1:]\n",
    "trainY = mnist[:32000, 0]\n",
    "testX = mnist[32000:, 1:]\n",
    "testY = mnist[32000:, 0]\n",
    "\n",
    "oneHotTrainY = np.zeros(shape=(len(np.unique(trainY)), trainX.shape[0]))\n",
    "for i in range(0, trainX.shape[0]):\n",
    "    oneHotTrainY[trainY[i], i] = 1\n",
    "mean, std = np.mean(trainX), np.std(trainX)\n",
    "\n",
    "trainX = (trainX - mean)/std\n",
    "testX = (testX - mean)/std\n",
    "\n",
    "oneHotTestY = np.zeros(shape=(len(np.unique(trainY)), testX.shape[0]))\n",
    "for i in range(0, testX.shape[0]):\n",
    "    oneHotTestY[testY[i], i] = 1"
   ]
  },
  {
   "cell_type": "code",
   "execution_count": 5,
   "metadata": {},
   "outputs": [
    {
     "name": "stdout",
     "output_type": "stream",
     "text": [
      "0%                                                        100%\n",
      "[████████████████████████████████████████████████████████████] | ETA: 00:00:00 | Item ID: [0.997, 0.974] 0.10, 0.09\n",
      "Total time elapsed: 00:08:16\n",
      "Title: \n",
      "  Started: 07/13/2016 23:08:45\n",
      "  Finished: 07/13/2016 23:17:02\n",
      "  Total time elapsed: 00:08:16\n"
     ]
    }
   ],
   "source": [
    "import NeuralNetwork2Layer\n",
    "\n",
    "nn = NeuralNetwork2Layer.NeuralNetworkClassifier(50, 10, epochs=700, learningRate=0.01, batchSize=256, l2=0.001)\n",
    "nn.fit(trainX, oneHotTrainY, validationFunc = lambda model: np.sum(model.predict(testX) == testY)/len(testX))"
   ]
  },
  {
   "cell_type": "code",
   "execution_count": null,
   "metadata": {},
   "outputs": [],
   "source": [
    "import matplotlib.pyplot as plt\n",
    "%matplotlib inline\n",
    "\n",
    "fig, ax = plt.subplots(nrows=2, ncols=2)\n",
    "ax[0, 0].scatter(np.arange(0, len(nn.batchLosses)), nn.batchLosses)\n",
    "plt.xlabel('Batch Epoch')\n",
    "plt.ylabel('Batch Loss')\n",
    "\n",
    "ax[0, 1].scatter(np.arange(0, len(nn.losses)), nn.losses)\n",
    "plt.xlabel('Epoch')\n",
    "plt.ylabel('Loss')\n",
    "\n",
    "\n",
    "ax[1, 0].scatter(np.arange(0, len(nn.trainAccuracies)), nn.trainAccuracies, color='g')\n",
    "ax[1, 0].axhline(1)\n",
    "plt.xlabel('Epoch')\n",
    "plt.ylabel('Accuracy')\n",
    "\n",
    "fig.set_size_inches((20, 15))"
   ]
  }
 ],
 "metadata": {
  "kernelspec": {
   "display_name": "Python 3",
   "language": "python",
   "name": "python3"
  },
  "language_info": {
   "codemirror_mode": {
    "name": "ipython",
    "version": 3.0
   },
   "file_extension": ".py",
   "mimetype": "text/x-python",
   "name": "python",
   "nbconvert_exporter": "python",
   "pygments_lexer": "ipython3",
   "version": "3.5.0"
  }
 },
 "nbformat": 4,
 "nbformat_minor": 0
}